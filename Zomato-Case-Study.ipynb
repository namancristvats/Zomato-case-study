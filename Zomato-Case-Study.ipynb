{
 "cells": [
  {
   "cell_type": "markdown",
   "metadata": {},
   "source": [
    "Fetch the cuisine_id of ‘Mexican’ cuisine using Zomato API."
   ]
  },
  {
   "cell_type": "code",
   "execution_count": 1,
   "metadata": {},
   "outputs": [
    {
     "name": "stdout",
     "output_type": "stream",
     "text": [
      "73\n"
     ]
    }
   ],
   "source": [
    "import requests\n",
    "import json\n",
    "header={\"Accept\": \"application/json\",\"User-Key\": \"e02117ae27e46815066733b0860c96c4\"}\n",
    "r=requests.get('https://developers.zomato.com/api/v2.1/cuisines?city_id=25',headers=header,)\n",
    "a=r.json()\n",
    "list=a.get('cuisines')\n",
    "list[0]['cuisine']['cuisine_id']\n",
    "for i in range(len(list)):\n",
    "    if list[i]['cuisine']['cuisine_name']==\"Mexican\":\n",
    "        print(list[i]['cuisine']['cuisine_id'])"
   ]
  },
  {
   "cell_type": "markdown",
   "metadata": {},
   "source": [
    "Fetch the entityid and entitytype of place Connaught Place."
   ]
  },
  {
   "cell_type": "code",
   "execution_count": 2,
   "metadata": {},
   "outputs": [
    {
     "name": "stdout",
     "output_type": "stream",
     "text": [
      "subzone 104\n"
     ]
    }
   ],
   "source": [
    "import requests\n",
    "import json\n",
    "header={\"Accept\": \"application/json\",\"User-Key\": \"e02117ae27e46815066733b0860c96c4\"}\n",
    "r=requests.get('https://developers.zomato.com/api/v2.1/locations?query=Connaught%20Place',headers=header,)\n",
    "print(r.json()['location_suggestions'][0]['entity_type'],r.json()['location_suggestions'][0]['entity_id'])"
   ]
  },
  {
   "cell_type": "markdown",
   "metadata": {},
   "source": [
    "Fetch the top 10 best-rated restaurant serving ‘Mexican’ cuisine present in Connaught Place.\n",
    "Print the restaurant name, user rating and restaurant id."
   ]
  },
  {
   "cell_type": "code",
   "execution_count": 3,
   "metadata": {},
   "outputs": [
    {
     "name": "stdout",
     "output_type": "stream",
     "text": [
      "Chili's Grill & Bar 4.6 18537536\n",
      "Farzi Cafe 4.5 18233593\n",
      "Xero Degrees 4.3 18729557\n",
      "Ministry Of Beer 4.3 18418277\n",
      "Unplugged Courtyard 4.2 18216901\n",
      "Chaayos - Meri Wali Chai 4.2 18237315\n",
      "The Beer Cafe - BIGGIE 4.2 307060\n",
      "Rodeo Cantina & Kitchen 4.1 18673403\n",
      "Pebble Street 4.1 309859\n",
      "38 Barracks 4.1 18241537\n"
     ]
    }
   ],
   "source": [
    "import requests\n",
    "import json\n",
    "header={\"Accept\": \"application/json\",\"User-Key\": \"e02117ae27e46815066733b0860c96c4\",'User-Agent':'curl/7.43.0'}\n",
    "cp_entity_id=104\n",
    "c_entity_type='subzone'\n",
    "params={'entity_id':cp_entity_id,'entity_type':c_entity_type,'sort':'rating','cuisines':73,'count':10}\n",
    "r=requests.get('https://developers.zomato.com/api/v2.1'+'/search',headers=header,params=params)\n",
    "\n",
    "for i in r.json().get('restaurants'):\n",
    "    print(i.get('restaurant').get('name'),i.get('restaurant').get('user_rating').get('aggregate_rating'),\n",
    "          i.get('restaurant').get('R').get('res_id'))"
   ]
  },
  {
   "cell_type": "markdown",
   "metadata": {},
   "source": [
    "Fetch the category id of category type ‘Cafes’ using Zomato API."
   ]
  },
  {
   "cell_type": "code",
   "execution_count": 4,
   "metadata": {},
   "outputs": [
    {
     "name": "stdout",
     "output_type": "stream",
     "text": [
      "6\n"
     ]
    }
   ],
   "source": [
    "import requests\n",
    "import json\n",
    "header={\"Accept\": \"application/json\",\"User-Key\": \"e02117ae27e46815066733b0860c96c4\"}\n",
    "r=requests.get('https://developers.zomato.com/api/v2.1/categories',headers=header,)\n",
    "\n",
    "a=r.json()\n",
    "list=a.get('categories')\n",
    "for i in range(len(list)):\n",
    "    if list[i]['categories']['name']=='Cafes':\n",
    "        print(list[i]['categories']['id'])"
   ]
  },
  {
   "cell_type": "markdown",
   "metadata": {},
   "source": [
    "Fetch the best-rated restaurant for ‘Mexican’ cuisine with category type ‘ Cafes’ present in Connaught Place using Zomato API.\n",
    "Print the restaurant name, user rating and restaurant id."
   ]
  },
  {
   "cell_type": "code",
   "execution_count": 5,
   "metadata": {},
   "outputs": [
    {
     "name": "stdout",
     "output_type": "stream",
     "text": [
      "Xero Degrees 4.3 18729557\n",
      "Chaayos - Meri Wali Chai 4.2 18237315\n",
      "The Art House Bar n Cafe 3.9 18863766\n",
      "Cafe Coffee Day - The Square 3.5 303034\n"
     ]
    }
   ],
   "source": [
    "import requests\n",
    "import json\n",
    "header={\"Accept\": \"application/json\",\"User-Key\": \"e02117ae27e46815066733b0860c96c4\",'User-Agent':'curl/7.43.0'}\n",
    "cp_entity_id=104\n",
    "c_entity_type='subzone'\n",
    "params={'entity_id':cp_entity_id,'entity_type':c_entity_type,'sort':'rating','cuisines':73,'count':10,'category':'6'}\n",
    "\n",
    "r=requests.get('https://developers.zomato.com/api/v2.1'+'/search',headers=header,params=params)\n",
    "\n",
    "\n",
    "for i in r.json().get('restaurants'):\n",
    "    print(i.get('restaurant').get('name'),i.get('restaurant').get('user_rating').get('aggregate_rating'),\n",
    "          i.get('restaurant').get('R').get('res_id'))"
   ]
  },
  {
   "cell_type": "markdown",
   "metadata": {},
   "source": [
    "Fetch the latest review of the best-rated restaurant for ‘Mexican’ cuisine with Category type ‘Cafes’ present in Connaught Place using Zomato API.\n",
    "Print the name of user ,user rating and review text.\n",
    "Note :\n",
    "Due to limitation of basic API plan it, can only fetch 5 latest review"
   ]
  },
  {
   "cell_type": "code",
   "execution_count": 6,
   "metadata": {},
   "outputs": [
    {
     "name": "stdout",
     "output_type": "stream",
     "text": [
      "Jasleen Kaur 5 Amazing place Lively atmosphere  Courteous staff Beautiful decor Delicious food\n",
      "Ratish Bansal 4 I have already been here thrice and definitely many more visits to come. •\tLocation: 5/5 Being in CP doesn't require any explanation •\tAmbience/Music: 5/5 I visited on Saturday and it was Sufi night. The live performance was great. The singer was also happy to take song requests. •\tSeating:4.5/5 Being in CP, there’s always a space constraint, but it wasn't that restricted. Seating was easily available. •\tService: 5/5 The service was quick, and food was served hot. Food Ordered: •\tCrispy Nachos and DIP: 5/5 •\tRainbow Pizza :4.5/5 Drinks Ordered: •\tMilitary Camp 4.5/5 •\tGarrison 4.5/5 Extra Plus Points:  •\tZomato Gold is accepted here which makes is cost effective. •\tStag entry is allowed, which is good for all boys group, especially during weekends. Overall Rating:4.5/5\n",
      "The Foody Passport Holder 4 Beautiful place with nice decore and staff is also good. Price is a bit on a higher level as compared to food but yes if you want to visit a new place or just try something new this is the best option 💖 With love. The Foody Passport Holder\n",
      "Mitali Katke 4 Tandoori paneer tikka was really good with quality nd quantity. panner cubes made so softly nd delicious. delivery was not delayed which was relief for me. The packing was great nd perfect. Masala were in awsmm flavors.\n",
      "Khushii Khushiíi 5 \n"
     ]
    }
   ],
   "source": [
    "import json\n",
    "import requests\n",
    "header={\"Accept\": \"application/json\",\"User-Key\": \"e02117ae27e46815066733b0860c96c4\",'User-Agent':'curl/7.43.0'}\n",
    "cp_entity_id=18241537\n",
    "c_entity_type='subzone'\n",
    "params={'res_id':cp_entity_id}\n",
    "\n",
    "r=requests.get('https://developers.zomato.com/api/v2.1'+'/reviews',headers=header,params=params)\n",
    "\n",
    "\n",
    "for i in r.json().get('user_reviews'):\n",
    "    print(i.get('review').get('user').get('name'),i.get('review').get('rating'),i.get('review').get('review_text'))\n",
    "    \n",
    "                                                                                     "
   ]
  },
  {
   "cell_type": "code",
   "execution_count": null,
   "metadata": {},
   "outputs": [],
   "source": []
  },
  {
   "cell_type": "code",
   "execution_count": null,
   "metadata": {},
   "outputs": [],
   "source": []
  },
  {
   "cell_type": "code",
   "execution_count": null,
   "metadata": {},
   "outputs": [],
   "source": []
  },
  {
   "cell_type": "code",
   "execution_count": null,
   "metadata": {},
   "outputs": [],
   "source": []
  }
 ],
 "metadata": {
  "kernelspec": {
   "display_name": "Python 3",
   "language": "python",
   "name": "python3"
  },
  "language_info": {
   "codemirror_mode": {
    "name": "ipython",
    "version": 3
   },
   "file_extension": ".py",
   "mimetype": "text/x-python",
   "name": "python",
   "nbconvert_exporter": "python",
   "pygments_lexer": "ipython3",
   "version": "3.7.4"
  }
 },
 "nbformat": 4,
 "nbformat_minor": 2
}
