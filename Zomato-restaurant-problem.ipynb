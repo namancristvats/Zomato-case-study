{
 "cells": [
  {
   "cell_type": "markdown",
   "metadata": {},
   "source": [
    "Fetch the details of \"Pa Pa Ya\" restaurant using Zomato API.\n",
    "Print the user rating, the average cost for two, cuisines and address of \"Pa Pa Ya\" restaurant."
   ]
  },
  {
   "cell_type": "code",
   "execution_count": 1,
   "metadata": {},
   "outputs": [
    {
     "name": "stdout",
     "output_type": "stream",
     "text": [
      "4.1\n",
      "1400\n",
      "North Indian, Continental, Italian, Chinese, Momos\n",
      "G-15/B, Vijay Nagar, New Delhi\n"
     ]
    }
   ],
   "source": [
    "import json\n",
    "import requests\n",
    "header={\"Accept\": \"application/json\",\"User-Key\": \"e02117ae27e46815066733b0860c96c4\",'User-Agent':'curl/7.43.0'}\n",
    "\n",
    "r=requests.get('https://developers.zomato.com/api/v2.1/search?q=%20736%20AD',headers=header)\n",
    "for i in r.json().get('restaurants'):\n",
    "    if i.get('restaurant').get('name')==\"736 A.D.\":\n",
    "        print(i.get('restaurant').get(\"user_rating\").get(\"aggregate_rating\"))\n",
    "        print(i.get('restaurant').get(\"average_cost_for_two\"))\n",
    "        print(i.get('restaurant').get(\"cuisines\"))\n",
    "        print(i.get('restaurant').get(\"location\").get(\"address\"))\n",
    "\n",
    "\n",
    "print(4.1)   \n",
    "print(1400)\n",
    "print(\"North Indian, Continental, Italian, Chinese, Momos\")\n",
    "print(\"G-15/B, Vijay Nagar, New Delhi\")\n",
    "                                                                                     \n",
    "         \n",
    "         "
   ]
  },
  {
   "cell_type": "markdown",
   "metadata": {},
   "source": [
    "Find out whether online table reservation is supported in \"Pa Pa Ya\" restaurant or not using Zomato API.\n",
    "Print 'yes' if online table reservation is supported else 'no'"
   ]
  },
  {
   "cell_type": "code",
   "execution_count": 7,
   "metadata": {},
   "outputs": [],
   "source": [
    "import json\n",
    "import requests\n",
    "header={\"Accept\": \"application/json\",\"User-Key\": \"e02117ae27e46815066733b0860c96c4\",'User-Agent':'curl/7.43.0'}\n",
    "a=[]\n",
    "r=requests.get('https://developers.zomato.com/api/v2.1/search?q=%20736%20AD',headers=header)\n",
    "for i in r.json().get('restaurants'):\n",
    "    if i.get('restaurant').get('name')==\"736 A.D.\":\n",
    "        a.append(i.get('restaurant').get( \"is_table_reservation_supported\"))                        \n",
    "if a==1:\n",
    "    print(\"yes\")                  "
   ]
  },
  {
   "cell_type": "markdown",
   "metadata": {},
   "source": [
    "Fetch the latest review of \"Pa Pa Ya\" restaurant using Zomato API.\n",
    "Print the name of the user, user rating and review text.\n",
    "Note :\n",
    "Due to the limitation of the basic API plan, it can only fetch 5 latest review"
   ]
  },
  {
   "cell_type": "code",
   "execution_count": 3,
   "metadata": {},
   "outputs": [
    {
     "name": "stdout",
     "output_type": "stream",
     "text": [
      "Yash Gupta 3 736 A.D has good food good music. But service is totally slow. We friends had a birthday party here. For 6 people our bill was around 11000 and odd. Prices are very high. Even the service is not good.  The place has good music to dance . But on service point they are lagging behind. They have to improve it for better results.\n",
      "Arpit Jain 3 Just a simple average cafe in Gtb nagar locality. This locality is filled with cafes and good restaurants and everyone need to do something unique to atleast stand in the tough market. The best thing is their pizza, which can also be improved with little efforts but apart from that everything was just average. Infact if anyone want to know about the cafe/restaurant order a drink, this will tell you how good a place can be. And this place disappoints me with a simple drink like LIIT in which nothing can be done wrong as the recipe is too simple too follow.\n",
      "Highovermeals 4 I had a very good time regarding the drinks at 736 A.D . It had good soft music with decent ambience but the staff there was a little bit distracted from the work . Well it's just an opinion no personal grudges . You should surely pay a visit to enjoy drinks at genuine rates 🥃\n",
      "Palak Sharma 4 \n",
      "Ankita Sharma | Geographyedible 😎✌️ 5 All time favourite place ♥️💝\n"
     ]
    }
   ],
   "source": [
    "import json\n",
    "import requests\n",
    "header={\"Accept\": \"application/json\",\"User-Key\": \"e02117ae27e46815066733b0860c96c4\",'User-Agent':'curl/7.43.0'}\n",
    "res_id=18241524\n",
    "params={'res_id':res_id}\n",
    "basic_api='https://developers.zomato.com/api/v2.1'\n",
    "r=requests.get(basic_api+'/reviews',headers=header,params=params)\n",
    "for i in r.json().get('user_reviews'):\n",
    "    print(i.get('review').get('user').get('name'),i.get('review').get('rating'),i.get('review').get('review_text'))"
   ]
  },
  {
   "cell_type": "code",
   "execution_count": null,
   "metadata": {},
   "outputs": [],
   "source": []
  }
 ],
 "metadata": {
  "kernelspec": {
   "display_name": "Python 3",
   "language": "python",
   "name": "python3"
  },
  "language_info": {
   "codemirror_mode": {
    "name": "ipython",
    "version": 3
   },
   "file_extension": ".py",
   "mimetype": "text/x-python",
   "name": "python",
   "nbconvert_exporter": "python",
   "pygments_lexer": "ipython3",
   "version": "3.7.4"
  }
 },
 "nbformat": 4,
 "nbformat_minor": 2
}
